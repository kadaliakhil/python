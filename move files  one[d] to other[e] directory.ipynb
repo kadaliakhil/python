{
 "cells": [
  {
   "cell_type": "markdown",
   "metadata": {},
   "source": [
    "# simple code to move files from one dir to other"
   ]
  },
  {
   "cell_type": "markdown",
   "metadata": {},
   "source": [
    ">>## frist we need to import os and shutil package"
   ]
  },
  {
   "cell_type": "markdown",
   "metadata": {},
   "source": [
    ">>>### give path details :one dir where files stored [c:\\\\] need to be move[e:\\\\]
   ]
  },
  {
   "cell_type": "code",
   "execution_count": null,
   "metadata": {},
   "outputs": [],
   "source": [
    "import os, shutil\n",
    "path = \"E:\\\\practice\\\\\"\n",
    "moveto = \"F:\\\\VAN\"\n",
    "files = os.listdir(path)\n",
    "files.sort()\n",
    "for f in files:\n",
    "    src = 'E:\\\\practice\\\\'\n",
    "    dst = 'F:\\\\VAN'\n",
    "    shutil.move(src,dst)"
   ]
  },
  {
   "cell_type": "code",
   "execution_count": null,
   "metadata": {},
   "outputs": [],
   "source": []
  }
 ],
 "metadata": {
  "kernelspec": {
   "display_name": "Python 3",
   "language": "python",
   "name": "python3"
  },
  "language_info": {
   "codemirror_mode": {
    "name": "ipython",
    "version": 3
   },
   "file_extension": ".py",
   "mimetype": "text/x-python",
   "name": "python",
   "nbconvert_exporter": "python",
   "pygments_lexer": "ipython3",
   "version": "3.7.1"
  }
 },
 "nbformat": 4,
 "nbformat_minor": 2
}
